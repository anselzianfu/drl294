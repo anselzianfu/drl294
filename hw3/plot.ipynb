{
 "cells": [
  {
   "cell_type": "code",
   "execution_count": null,
   "metadata": {},
   "outputs": [],
   "source": [
    "import sys\n",
    "import pickle\n",
    "import matplotlib.pyplot as plt\n",
    "import seaborn as sns"
   ]
  },
  {
   "cell_type": "markdown",
   "metadata": {},
   "source": [
    "# Q-Learning"
   ]
  },
  {
   "cell_type": "markdown",
   "metadata": {},
   "source": [
    "## basic Q-learning performance"
   ]
  },
  {
   "cell_type": "code",
   "execution_count": null,
   "metadata": {},
   "outputs": [],
   "source": [
    "with open(\"data/vanilla_atari.pkl\", \"rb\") as f:\n",
    "    data = pickle.load(f)\n",
    "ax = plt.gca()\n",
    "ax.xaxis.get_major_formatter().set_powerlimits((0,1))\n",
    "plt.plot(data[\"timestamp\"], data[\"mean_episode_reward\"])\n",
    "plt.plot(data[\"timestamp\"], data[\"best_mean_episode_reward\"])\n",
    "\n",
    "plt.title(\"learning curve for basic Q-learning\")\n",
    "plt.legend([\"mean_episode_reward\", \"best_mean_episode_reward\"])\n",
    "plt.xlabel(\"timestep\")\n",
    "plt.ylabel(\"reward\")\n",
    "\n",
    "plt.savefig(\"Figure_1.png\", dpi=150)\n",
    "plt.show()"
   ]
  },
  {
   "cell_type": "markdown",
   "metadata": {},
   "source": [
    "## double DQN vs vanilla DQN"
   ]
  },
  {
   "cell_type": "code",
   "execution_count": null,
   "metadata": {},
   "outputs": [],
   "source": [
    "with open(\"data/double_atari.pkl\", \"rb\") as f:\n",
    "    double_data = pickle.load(f)\n",
    "with open(\"data/vanilla_atari.pkl\", \"rb\") as f:\n",
    "    vanilla_data = pickle.load(f)\n",
    "\n",
    "ax = plt.gca()\n",
    "ax.xaxis.get_major_formatter().set_powerlimits((0,1))\n",
    "\n",
    "plt.plot(vanilla_data[\"timestamp\"], vanilla_data[\"mean_episode_reward\"], color='r')\n",
    "plt.plot(vanilla_data[\"timestamp\"], vanilla_data[\"best_mean_episode_reward\"], color='orange')\n",
    "plt.plot(double_data[\"timestamp\"], double_data[\"mean_episode_reward\"], color='b')\n",
    "plt.plot(double_data[\"timestamp\"], double_data[\"best_mean_episode_reward\"], color='green')\n",
    "\n",
    "plt.title(\"learning curve for basic Q-learning and double Q-learning\")\n",
    "plt.legend([\"vanilla_mean\", \"vanilla_best\", \"double_mean\", \"double_best\"])\n",
    "plt.xlabel(\"timestep\")\n",
    "plt.ylabel(\"reward\")\n",
    "\n",
    "plt.savefig(\"Figure_2.png\", dpi=150)\n",
    "plt.show()"
   ]
  },
  {
   "cell_type": "markdown",
   "metadata": {},
   "source": [
    "## experimenting with hyperparameters"
   ]
  },
  {
   "cell_type": "code",
   "execution_count": null,
   "metadata": {},
   "outputs": [],
   "source": [
    "lr_list = [\"1e-2\", \"5e-3\", \"1e-3\", \"5e-4\", \"1e-4\"]\n",
    "\n",
    "plt.figure(figsize=(9, 6))\n",
    "ax = plt.gca()\n",
    "ax.xaxis.get_major_formatter().set_powerlimits((0,1))\n",
    "\n",
    "color_list = [\"r\", \"g\", \"b\", \"pink\", \"orange\"]\n",
    "\n",
    "for lr, color in zip(lr_list, color_list):\n",
    "    with open(\"data/lunar_lander_\" + lr + \".pkl\", \"rb\") as f:\n",
    "        data = pickle.load(f)\n",
    "    plt.plot(data[\"timestamp\"], data[\"mean_episode_reward\"], '-.', c=color)\n",
    "    plt.plot(data[\"timestamp\"], data[\"best_mean_episode_reward\"], c=color)\n",
    "\n",
    "plt.title(\"learning curve for basic Q-learning with different learning rate\")\n",
    "legend_1 = [\"mean: \" + lr for lr in lr_list]\n",
    "legend_2 = [\"best: \" + lr for lr in lr_list]\n",
    "legend = []\n",
    "for i, j in zip(legend_1, legend_2):\n",
    "    legend.extend([i, j])\n",
    "plt.legend(legend)\n",
    "plt.xlabel(\"timestep\")\n",
    "plt.ylabel(\"reward\")\n",
    "\n",
    "plt.savefig(\"Figure_3.png\", dpi=150)\n",
    "plt.show()"
   ]
  }
 ],
 "metadata": {
  "kernelspec": {
   "display_name": "Python 3",
   "language": "python",
   "name": "python3"
  },
  "language_info": {
   "codemirror_mode": {
    "name": "ipython",
    "version": 3
   },
   "file_extension": ".py",
   "mimetype": "text/x-python",
   "name": "python",
   "nbconvert_exporter": "python",
   "pygments_lexer": "ipython3"
  }
 },
 "nbformat": 4,
 "nbformat_minor": 2
}
